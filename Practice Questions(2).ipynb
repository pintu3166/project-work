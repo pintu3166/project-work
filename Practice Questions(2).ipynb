{
 "cells": [
  {
   "cell_type": "markdown",
   "metadata": {},
   "source": [
    "##### Q1\n",
    "\n",
    "What will the output be of ((500//7) % 5) ** 3?"
   ]
  },
  {
   "cell_type": "code",
   "execution_count": 2,
   "metadata": {},
   "outputs": [
    {
     "data": {
      "text/plain": [
       "1"
      ]
     },
     "execution_count": 2,
     "metadata": {},
     "output_type": "execute_result"
    }
   ],
   "source": [
    "x=((500//7)%5)**3\n",
    "x"
   ]
  },
  {
   "cell_type": "markdown",
   "metadata": {},
   "source": [
    "##### Q2\n",
    "\n",
    "How will you extract ‘love’ from the string S = “I love Python”? (More than one option may be correct.)."
   ]
  },
  {
   "cell_type": "code",
   "execution_count": 15,
   "metadata": {},
   "outputs": [
    {
     "data": {
      "text/plain": [
       "'love'"
      ]
     },
     "execution_count": 15,
     "metadata": {},
     "output_type": "execute_result"
    }
   ],
   "source": [
    "S=\"I love Python\"\n",
    "S[2:6]"
   ]
  },
  {
   "cell_type": "markdown",
   "metadata": {},
   "source": [
    "##### Q3\n",
    "\n",
    "What will the output of 3 * 3 ** 3 be?"
   ]
  },
  {
   "cell_type": "code",
   "execution_count": 9,
   "metadata": {},
   "outputs": [
    {
     "data": {
      "text/plain": [
       "81"
      ]
     },
     "execution_count": 9,
     "metadata": {},
     "output_type": "execute_result"
    }
   ],
   "source": [
    "3*3**3"
   ]
  },
  {
   "cell_type": "markdown",
   "metadata": {},
   "source": [
    "##### Q4\n",
    "\n",
    "If you have a tuple T = (3, 5, 7, 11), what will the output of T.append(9) be?"
   ]
  },
  {
   "cell_type": "markdown",
   "metadata": {},
   "source": [
    "T=(3,5,7,11)\n",
    "##tuple' object has no attribute 'append'"
   ]
  },
  {
   "cell_type": "markdown",
   "metadata": {},
   "source": [
    " Q5\n",
    "\n",
    "What will the output of the following program be?\n",
    "\n",
    "L1 = ['Vikas', 'Akshay', 'Sanskar', 'Mahima']\n",
    "\n",
    "print(L1[1][-1])"
   ]
  },
  {
   "cell_type": "code",
   "execution_count": 23,
   "metadata": {},
   "outputs": [
    {
     "name": "stdout",
     "output_type": "stream",
     "text": [
      "y\n"
     ]
    }
   ],
   "source": [
    "L1 = ['Vikas', 'Akshay', 'Sanskar', 'Mahima']\n",
    "print(L1[1][-1])"
   ]
  },
  {
   "cell_type": "markdown",
   "metadata": {},
   "source": [
    "##### Q6\n",
    "\n",
    "What will be the output ?\n",
    "\n",
    "l = [32, 34, 12, 27, 33]\n",
    "\n",
    "l.append([14, 19])\n",
    "\n",
    "print(len(l))"
   ]
  },
  {
   "cell_type": "code",
   "execution_count": 24,
   "metadata": {},
   "outputs": [
    {
     "name": "stdout",
     "output_type": "stream",
     "text": [
      "6\n"
     ]
    }
   ],
   "source": [
    "l = [32, 34, 12, 27, 33]\n",
    "l.append([14, 19])\n",
    "print(len(l))"
   ]
  },
  {
   "cell_type": "code",
   "execution_count": null,
   "metadata": {},
   "outputs": [],
   "source": []
  },
  {
   "cell_type": "code",
   "execution_count": null,
   "metadata": {},
   "outputs": [],
   "source": []
  }
 ],
 "metadata": {
  "kernelspec": {
   "display_name": "Python 3",
   "language": "python",
   "name": "python3"
  },
  "language_info": {
   "codemirror_mode": {
    "name": "ipython",
    "version": 3
   },
   "file_extension": ".py",
   "mimetype": "text/x-python",
   "name": "python",
   "nbconvert_exporter": "python",
   "pygments_lexer": "ipython3",
   "version": "3.8.5"
  }
 },
 "nbformat": 4,
 "nbformat_minor": 2
}
